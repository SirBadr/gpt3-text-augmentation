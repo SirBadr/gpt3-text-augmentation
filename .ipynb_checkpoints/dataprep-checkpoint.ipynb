{
 "cells": [
  {
   "cell_type": "code",
   "execution_count": 36,
   "id": "ab6f0eec",
   "metadata": {},
   "outputs": [],
   "source": [
    "import json\n",
    "import random"
   ]
  },
  {
   "cell_type": "code",
   "execution_count": 37,
   "id": "9e087977",
   "metadata": {},
   "outputs": [],
   "source": [
    "data_dir = \"../semeval22_structured_sentiment/data/\"\n",
    "mpqa_dir = data_dir + \"mpqa/\"\n",
    "darmstadt_dir = data_dir + \"darmstadt_unis/\"\n",
    "opener_dir = data_dir + \"opener_en/\""
   ]
  },
  {
   "cell_type": "code",
   "execution_count": 38,
   "id": "662ed083",
   "metadata": {},
   "outputs": [],
   "source": [
    "mpqa_train_json = mpqa_dir + \"train.json\"\n",
    "darmstadt_train_json = darmstadt_dir + \"train.json\"\n",
    "opener_train_json = opener_dir + \"train.json\""
   ]
  },
  {
   "cell_type": "code",
   "execution_count": 54,
   "id": "9906c664",
   "metadata": {},
   "outputs": [],
   "source": [
    "## code to merge all train.json files from above datasets to use them with GPT-J Prompt!\n",
    "files=[mpqa_train_json,darmstadt_train_json,opener_train_json]\n",
    "\n",
    "def merge_JsonFiles(filename):\n",
    "    result = list()\n",
    "    for f1 in filename:\n",
    "        with open(f1, 'r') as infile:\n",
    "            result.extend(json.load(infile))\n",
    "\n",
    "    with open('combinedTrain.json', 'w') as output_file:\n",
    "        json.dump(result, output_file)\n",
    "\n",
    "merge_JsonFiles(files)"
   ]
  },
  {
   "cell_type": "code",
   "execution_count": 50,
   "id": "e66b4c2d",
   "metadata": {},
   "outputs": [
    {
     "name": "stdout",
     "output_type": "stream",
     "text": [
      "5643\n",
      "2253\n",
      "1744\n",
      "9640\n"
     ]
    }
   ],
   "source": [
    "mpqaaa = 0\n",
    "with open(mpqa_train_json) as user_file:\n",
    "    mpqaaa = json.load(user_file)\n",
    "print(len(mpqaaa))\n",
    "\n",
    "darmaaa = 0\n",
    "with open(darmstadt_train_json) as user_file:\n",
    "    darmaaa = json.load(user_file)\n",
    "print(len(darmaaa))\n",
    "\n",
    "openerrr = 0\n",
    "with open(opener_train_json) as user_file:\n",
    "    openerrr = json.load(user_file)\n",
    "print(len(openerrr))\n",
    "\n",
    "combinedTrainContents = 0\n",
    "with open('combinedTrain.json') as user_file:\n",
    "    combinedTrainContents = json.load(user_file)\n",
    "print(len(combinedTrainContents))"
   ]
  },
  {
   "cell_type": "code",
   "execution_count": 98,
   "id": "e9864d25",
   "metadata": {},
   "outputs": [
    {
     "name": "stdout",
     "output_type": "stream",
     "text": [
      "3335\n"
     ]
    }
   ],
   "source": [
    "## code to remove texts with no sentiment!\n",
    "cleaned = list()\n",
    "combinedTrain = 0\n",
    "with open('combinedTrain.json') as data_file:    \n",
    "    combinedTrain = json.load(data_file)\n",
    "for v in data:\n",
    "    if(len(v[\"opinions\"]) != 0):\n",
    "        cleaned.append(v)\n",
    "        \n",
    "print(len(cleaned))\n",
    "with open('combinedTrainCleaned.json', 'w') as output_file:\n",
    "    json.dump(cleaned, output_file)\n"
   ]
  },
  {
   "cell_type": "code",
   "execution_count": 109,
   "id": "b7423003",
   "metadata": {},
   "outputs": [],
   "source": [
    "# function returns two random text samples to use them as GPT-J prompt\n",
    "def get_two_random_samples(filename):\n",
    "    x = open(filename)\n",
    "    x = json.load(x)\n",
    "    s1, s2 = random.sample(range(0, len(x)), 2)\n",
    "    # return text1, label1, text2, label2\n",
    "    return x[s1]['text'], x[s1]['opinions'][0]['Polarity'], x[s2]['text'], x[s2]['opinions'][0]['Polarity']"
   ]
  },
  {
   "cell_type": "code",
   "execution_count": 110,
   "id": "1572059b",
   "metadata": {},
   "outputs": [
    {
     "name": "stdout",
     "output_type": "stream",
     "text": [
      "('The price is too expensive for such ordinary service .', 'Negative', 'Malan defends a different posture : \" to set aside the notion of cynicism , skepticism , that things will not work out , \" and believe , like the Europeans , that there is a future to be built by the Mercosur countries and Chile and Bolivia , the associate members .', 'Positive')\n"
     ]
    }
   ],
   "source": [
    "print(get_two_random_samples('combinedTrainCleaned.json'))"
   ]
  },
  {
   "cell_type": "code",
   "execution_count": null,
   "id": "f4481d3e",
   "metadata": {},
   "outputs": [],
   "source": []
  }
 ],
 "metadata": {
  "kernelspec": {
   "display_name": "Python 3 (ipykernel)",
   "language": "python",
   "name": "python3"
  },
  "language_info": {
   "codemirror_mode": {
    "name": "ipython",
    "version": 3
   },
   "file_extension": ".py",
   "mimetype": "text/x-python",
   "name": "python",
   "nbconvert_exporter": "python",
   "pygments_lexer": "ipython3",
   "version": "3.9.15"
  }
 },
 "nbformat": 4,
 "nbformat_minor": 5
}
